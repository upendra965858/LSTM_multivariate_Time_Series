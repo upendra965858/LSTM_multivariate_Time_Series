{
  "nbformat": 4,
  "nbformat_minor": 0,
  "metadata": {
    "colab": {
      "provenance": [],
      "gpuType": "T4"
    },
    "kernelspec": {
      "name": "python3",
      "display_name": "Python 3"
    },
    "language_info": {
      "name": "python"
    },
    "accelerator": "GPU"
  },
  "cells": [
    {
      "cell_type": "code",
      "source": [
        "import numpy as np\n",
        "from tensorflow.keras.models import Sequential\n",
        "from tensorflow.keras.layers import LSTM\n",
        "from tensorflow.keras.layers import Dense, Dropout\n",
        "import pandas as pd\n",
        "from matplotlib import pyplot as plt\n",
        "from sklearn.preprocessing import StandardScaler\n",
        "import seaborn as sns"
      ],
      "metadata": {
        "id": "lxeA4L9lfOJQ"
      },
      "execution_count": 2,
      "outputs": []
    },
    {
      "cell_type": "code",
      "source": [
        "df=pd.read_csv('/content/GE.csv')"
      ],
      "metadata": {
        "id": "9D5yNXmweRyp"
      },
      "execution_count": 3,
      "outputs": []
    },
    {
      "cell_type": "code",
      "source": [
        "df.shape"
      ],
      "metadata": {
        "colab": {
          "base_uri": "https://localhost:8080/"
        },
        "id": "juLDkOnbeatM",
        "outputId": "5fb344c9-b067-43f7-9f57-268ceda48eb9"
      },
      "execution_count": 4,
      "outputs": [
        {
          "output_type": "execute_result",
          "data": {
            "text/plain": [
              "(15471, 7)"
            ]
          },
          "metadata": {},
          "execution_count": 4
        }
      ]
    },
    {
      "cell_type": "code",
      "source": [
        "df.info()"
      ],
      "metadata": {
        "colab": {
          "base_uri": "https://localhost:8080/"
        },
        "id": "BylO7crdedUU",
        "outputId": "4fb51f12-8856-4030-a2ed-3e38f8cf9eaf"
      },
      "execution_count": 10,
      "outputs": [
        {
          "output_type": "stream",
          "name": "stdout",
          "text": [
            "<class 'pandas.core.frame.DataFrame'>\n",
            "RangeIndex: 15471 entries, 0 to 15470\n",
            "Data columns (total 7 columns):\n",
            " #   Column     Non-Null Count  Dtype  \n",
            "---  ------     --------------  -----  \n",
            " 0   Date       15471 non-null  object \n",
            " 1   Open       15471 non-null  float64\n",
            " 2   High       15471 non-null  float64\n",
            " 3   Low        15471 non-null  float64\n",
            " 4   Close      15471 non-null  float64\n",
            " 5   Adj Close  15471 non-null  float64\n",
            " 6   Volume     15471 non-null  int64  \n",
            "dtypes: float64(5), int64(1), object(1)\n",
            "memory usage: 846.2+ KB\n"
          ]
        }
      ]
    },
    {
      "cell_type": "code",
      "source": [
        "train_dates=pd.to_datetime(df.Date)"
      ],
      "metadata": {
        "id": "_mrjh0kJfNus"
      },
      "execution_count": 12,
      "outputs": []
    },
    {
      "cell_type": "code",
      "source": [
        "train_dates"
      ],
      "metadata": {
        "id": "2lVOafWH0xn1"
      },
      "execution_count": null,
      "outputs": []
    },
    {
      "cell_type": "code",
      "source": [
        "cols=list(df)[1:6]\n",
        "cols"
      ],
      "metadata": {
        "colab": {
          "base_uri": "https://localhost:8080/"
        },
        "id": "_NA_TtzD07jV",
        "outputId": "aeef1506-851a-4697-a102-6f9fb2b926f3"
      },
      "execution_count": 14,
      "outputs": [
        {
          "output_type": "execute_result",
          "data": {
            "text/plain": [
              "['Open', 'High', 'Low', 'Close', 'Adj Close']"
            ]
          },
          "metadata": {},
          "execution_count": 14
        }
      ]
    },
    {
      "cell_type": "code",
      "source": [
        "df_for_training=df[cols].astype(float)\n",
        "df_for_training"
      ],
      "metadata": {
        "colab": {
          "base_uri": "https://localhost:8080/",
          "height": 423
        },
        "id": "9F5q_lZN1js1",
        "outputId": "c16a89d3-1cee-4cdb-e7fe-a167370dc4fb"
      },
      "execution_count": 16,
      "outputs": [
        {
          "output_type": "execute_result",
          "data": {
            "text/plain": [
              "             Open        High         Low       Close   Adj Close\n",
              "0        4.691347    4.769536    4.644433    4.675709    0.785728\n",
              "1        4.652252    4.652252    4.613158    4.628796    0.777844\n",
              "2        4.628796    4.667890    4.534969    4.574063    0.768647\n",
              "3        4.574063    4.581882    4.378590    4.456780    0.748938\n",
              "4        4.456780    4.456780    4.316039    4.448961    0.747623\n",
              "...           ...         ...         ...         ...         ...\n",
              "15466  106.309998  106.889999  105.650002  106.230003  106.230003\n",
              "15467  106.029999  107.150002  105.809998  106.739998  106.739998\n",
              "15468  106.720001  106.800003  103.959999  104.699997  104.699997\n",
              "15469  104.440002  105.639999  103.989998  105.410004  105.410004\n",
              "15470  105.949997  108.900002  105.940002  106.290001  106.290001\n",
              "\n",
              "[15471 rows x 5 columns]"
            ],
            "text/html": [
              "\n",
              "  <div id=\"df-c5c11fb8-dac8-4ee4-bf0c-e533a1f9b678\">\n",
              "    <div class=\"colab-df-container\">\n",
              "      <div>\n",
              "<style scoped>\n",
              "    .dataframe tbody tr th:only-of-type {\n",
              "        vertical-align: middle;\n",
              "    }\n",
              "\n",
              "    .dataframe tbody tr th {\n",
              "        vertical-align: top;\n",
              "    }\n",
              "\n",
              "    .dataframe thead th {\n",
              "        text-align: right;\n",
              "    }\n",
              "</style>\n",
              "<table border=\"1\" class=\"dataframe\">\n",
              "  <thead>\n",
              "    <tr style=\"text-align: right;\">\n",
              "      <th></th>\n",
              "      <th>Open</th>\n",
              "      <th>High</th>\n",
              "      <th>Low</th>\n",
              "      <th>Close</th>\n",
              "      <th>Adj Close</th>\n",
              "    </tr>\n",
              "  </thead>\n",
              "  <tbody>\n",
              "    <tr>\n",
              "      <th>0</th>\n",
              "      <td>4.691347</td>\n",
              "      <td>4.769536</td>\n",
              "      <td>4.644433</td>\n",
              "      <td>4.675709</td>\n",
              "      <td>0.785728</td>\n",
              "    </tr>\n",
              "    <tr>\n",
              "      <th>1</th>\n",
              "      <td>4.652252</td>\n",
              "      <td>4.652252</td>\n",
              "      <td>4.613158</td>\n",
              "      <td>4.628796</td>\n",
              "      <td>0.777844</td>\n",
              "    </tr>\n",
              "    <tr>\n",
              "      <th>2</th>\n",
              "      <td>4.628796</td>\n",
              "      <td>4.667890</td>\n",
              "      <td>4.534969</td>\n",
              "      <td>4.574063</td>\n",
              "      <td>0.768647</td>\n",
              "    </tr>\n",
              "    <tr>\n",
              "      <th>3</th>\n",
              "      <td>4.574063</td>\n",
              "      <td>4.581882</td>\n",
              "      <td>4.378590</td>\n",
              "      <td>4.456780</td>\n",
              "      <td>0.748938</td>\n",
              "    </tr>\n",
              "    <tr>\n",
              "      <th>4</th>\n",
              "      <td>4.456780</td>\n",
              "      <td>4.456780</td>\n",
              "      <td>4.316039</td>\n",
              "      <td>4.448961</td>\n",
              "      <td>0.747623</td>\n",
              "    </tr>\n",
              "    <tr>\n",
              "      <th>...</th>\n",
              "      <td>...</td>\n",
              "      <td>...</td>\n",
              "      <td>...</td>\n",
              "      <td>...</td>\n",
              "      <td>...</td>\n",
              "    </tr>\n",
              "    <tr>\n",
              "      <th>15466</th>\n",
              "      <td>106.309998</td>\n",
              "      <td>106.889999</td>\n",
              "      <td>105.650002</td>\n",
              "      <td>106.230003</td>\n",
              "      <td>106.230003</td>\n",
              "    </tr>\n",
              "    <tr>\n",
              "      <th>15467</th>\n",
              "      <td>106.029999</td>\n",
              "      <td>107.150002</td>\n",
              "      <td>105.809998</td>\n",
              "      <td>106.739998</td>\n",
              "      <td>106.739998</td>\n",
              "    </tr>\n",
              "    <tr>\n",
              "      <th>15468</th>\n",
              "      <td>106.720001</td>\n",
              "      <td>106.800003</td>\n",
              "      <td>103.959999</td>\n",
              "      <td>104.699997</td>\n",
              "      <td>104.699997</td>\n",
              "    </tr>\n",
              "    <tr>\n",
              "      <th>15469</th>\n",
              "      <td>104.440002</td>\n",
              "      <td>105.639999</td>\n",
              "      <td>103.989998</td>\n",
              "      <td>105.410004</td>\n",
              "      <td>105.410004</td>\n",
              "    </tr>\n",
              "    <tr>\n",
              "      <th>15470</th>\n",
              "      <td>105.949997</td>\n",
              "      <td>108.900002</td>\n",
              "      <td>105.940002</td>\n",
              "      <td>106.290001</td>\n",
              "      <td>106.290001</td>\n",
              "    </tr>\n",
              "  </tbody>\n",
              "</table>\n",
              "<p>15471 rows × 5 columns</p>\n",
              "</div>\n",
              "      <button class=\"colab-df-convert\" onclick=\"convertToInteractive('df-c5c11fb8-dac8-4ee4-bf0c-e533a1f9b678')\"\n",
              "              title=\"Convert this dataframe to an interactive table.\"\n",
              "              style=\"display:none;\">\n",
              "        \n",
              "  <svg xmlns=\"http://www.w3.org/2000/svg\" height=\"24px\"viewBox=\"0 0 24 24\"\n",
              "       width=\"24px\">\n",
              "    <path d=\"M0 0h24v24H0V0z\" fill=\"none\"/>\n",
              "    <path d=\"M18.56 5.44l.94 2.06.94-2.06 2.06-.94-2.06-.94-.94-2.06-.94 2.06-2.06.94zm-11 1L8.5 8.5l.94-2.06 2.06-.94-2.06-.94L8.5 2.5l-.94 2.06-2.06.94zm10 10l.94 2.06.94-2.06 2.06-.94-2.06-.94-.94-2.06-.94 2.06-2.06.94z\"/><path d=\"M17.41 7.96l-1.37-1.37c-.4-.4-.92-.59-1.43-.59-.52 0-1.04.2-1.43.59L10.3 9.45l-7.72 7.72c-.78.78-.78 2.05 0 2.83L4 21.41c.39.39.9.59 1.41.59.51 0 1.02-.2 1.41-.59l7.78-7.78 2.81-2.81c.8-.78.8-2.07 0-2.86zM5.41 20L4 18.59l7.72-7.72 1.47 1.35L5.41 20z\"/>\n",
              "  </svg>\n",
              "      </button>\n",
              "      \n",
              "  <style>\n",
              "    .colab-df-container {\n",
              "      display:flex;\n",
              "      flex-wrap:wrap;\n",
              "      gap: 12px;\n",
              "    }\n",
              "\n",
              "    .colab-df-convert {\n",
              "      background-color: #E8F0FE;\n",
              "      border: none;\n",
              "      border-radius: 50%;\n",
              "      cursor: pointer;\n",
              "      display: none;\n",
              "      fill: #1967D2;\n",
              "      height: 32px;\n",
              "      padding: 0 0 0 0;\n",
              "      width: 32px;\n",
              "    }\n",
              "\n",
              "    .colab-df-convert:hover {\n",
              "      background-color: #E2EBFA;\n",
              "      box-shadow: 0px 1px 2px rgba(60, 64, 67, 0.3), 0px 1px 3px 1px rgba(60, 64, 67, 0.15);\n",
              "      fill: #174EA6;\n",
              "    }\n",
              "\n",
              "    [theme=dark] .colab-df-convert {\n",
              "      background-color: #3B4455;\n",
              "      fill: #D2E3FC;\n",
              "    }\n",
              "\n",
              "    [theme=dark] .colab-df-convert:hover {\n",
              "      background-color: #434B5C;\n",
              "      box-shadow: 0px 1px 3px 1px rgba(0, 0, 0, 0.15);\n",
              "      filter: drop-shadow(0px 1px 2px rgba(0, 0, 0, 0.3));\n",
              "      fill: #FFFFFF;\n",
              "    }\n",
              "  </style>\n",
              "\n",
              "      <script>\n",
              "        const buttonEl =\n",
              "          document.querySelector('#df-c5c11fb8-dac8-4ee4-bf0c-e533a1f9b678 button.colab-df-convert');\n",
              "        buttonEl.style.display =\n",
              "          google.colab.kernel.accessAllowed ? 'block' : 'none';\n",
              "\n",
              "        async function convertToInteractive(key) {\n",
              "          const element = document.querySelector('#df-c5c11fb8-dac8-4ee4-bf0c-e533a1f9b678');\n",
              "          const dataTable =\n",
              "            await google.colab.kernel.invokeFunction('convertToInteractive',\n",
              "                                                     [key], {});\n",
              "          if (!dataTable) return;\n",
              "\n",
              "          const docLinkHtml = 'Like what you see? Visit the ' +\n",
              "            '<a target=\"_blank\" href=https://colab.research.google.com/notebooks/data_table.ipynb>data table notebook</a>'\n",
              "            + ' to learn more about interactive tables.';\n",
              "          element.innerHTML = '';\n",
              "          dataTable['output_type'] = 'display_data';\n",
              "          await google.colab.output.renderOutput(dataTable, element);\n",
              "          const docLink = document.createElement('div');\n",
              "          docLink.innerHTML = docLinkHtml;\n",
              "          element.appendChild(docLink);\n",
              "        }\n",
              "      </script>\n",
              "    </div>\n",
              "  </div>\n",
              "  "
            ]
          },
          "metadata": {},
          "execution_count": 16
        }
      ]
    },
    {
      "cell_type": "code",
      "source": [
        "df_for_plot=df_for_training.tail(5000)\n",
        "df_for_plot.plot.line()"
      ],
      "metadata": {
        "colab": {
          "base_uri": "https://localhost:8080/",
          "height": 448
        },
        "id": "48M62tNn1wMl",
        "outputId": "1be8542c-8b46-4dd3-a9d6-84b7043c7f9c"
      },
      "execution_count": 17,
      "outputs": [
        {
          "output_type": "execute_result",
          "data": {
            "text/plain": [
              "<Axes: >"
            ]
          },
          "metadata": {},
          "execution_count": 17
        },
        {
          "output_type": "display_data",
          "data": {
            "text/plain": [
              "<Figure size 640x480 with 1 Axes>"
            ],
            "image/png": "[encoded data removed]"
          },
          "metadata": {}
        }
      ]
    },
    {
      "cell_type": "code",
      "source": [
        "scaler=StandardScaler()\n",
        "df_for_training_scaled=scaler.fit_transform(df_for_training)"
      ],
      "metadata": {
        "id": "ilEZ0DR62OsT"
      },
      "execution_count": 18,
      "outputs": []
    },
    {
      "cell_type": "code",
      "source": [
        "df_for_training_scaled"
      ],
      "metadata": {
        "colab": {
          "base_uri": "https://localhost:8080/"
        },
        "id": "QYMaRhiV3SaJ",
        "outputId": "57bfbbd7-f300-4670-fb9f-35791dfc4ca8"
      },
      "execution_count": 19,
      "outputs": [
        {
          "output_type": "execute_result",
          "data": {
            "text/plain": [
              "array([[-0.87495453, -0.87435645, -0.8750696 , -0.87499109, -0.89264392],\n",
              "       [-0.87543517, -0.87578275, -0.87545855, -0.87556781, -0.89278639],\n",
              "       [-0.87572354, -0.87559258, -0.87643094, -0.87624067, -0.89295258],\n",
              "       ...,\n",
              "       [ 0.37939317,  0.36644225,  0.36006152,  0.35465149,  0.98516508],\n",
              "       [ 0.3513627 ,  0.35233537,  0.3604346 ,  0.36337992,  0.99799544],\n",
              "       [ 0.36992669,  0.39198047,  0.38468569,  0.37419811,  1.01389765]])"
            ]
          },
          "metadata": {},
          "execution_count": 19
        }
      ]
    },
    {
      "cell_type": "code",
      "source": [
        "trainX=[]\n",
        "trainY=[]\n",
        "\n",
        "n_future=1\n",
        "n_past=14\n",
        "\n",
        "for i in range(n_past,len(df_for_training_scaled)-n_future+1):\n",
        "  trainX.append(df_for_training_scaled[i-n_past:i,0:df_for_training.shape[1]])\n",
        "  trainY.append(df_for_training_scaled[i+n_future - 1:i+n_future,0])"
      ],
      "metadata": {
        "id": "eYDOMeu-3Uao"
      },
      "execution_count": 21,
      "outputs": []
    },
    {
      "cell_type": "code",
      "source": [
        "type(trainX)"
      ],
      "metadata": {
        "colab": {
          "base_uri": "https://localhost:8080/"
        },
        "id": "-Z9EtHem5ajD",
        "outputId": "83e95713-d025-45a8-ac65-0f345732c3d6"
      },
      "execution_count": 27,
      "outputs": [
        {
          "output_type": "execute_result",
          "data": {
            "text/plain": [
              "numpy.ndarray"
            ]
          },
          "metadata": {},
          "execution_count": 27
        }
      ]
    },
    {
      "cell_type": "code",
      "source": [
        "trainX,trainY =np.array(trainX),np.array(trainY)"
      ],
      "metadata": {
        "id": "Eo5A6Daz4LUY"
      },
      "execution_count": 26,
      "outputs": []
    },
    {
      "cell_type": "code",
      "source": [
        "print(f'trainX shape == {trainX.shape}.')\n",
        "print(f'trainY shape == {trainY.shape}.')"
      ],
      "metadata": {
        "colab": {
          "base_uri": "https://localhost:8080/"
        },
        "id": "hLFmy8cJ58U4",
        "outputId": "78aa6a09-1cc8-4893-8ca9-f32902a7fd87"
      },
      "execution_count": 29,
      "outputs": [
        {
          "output_type": "stream",
          "name": "stdout",
          "text": [
            "trainX shape == (15457, 14, 5).\n",
            "trainY shape == (15457, 1).\n"
          ]
        }
      ]
    },
    {
      "cell_type": "code",
      "source": [
        "model = Sequential()\n",
        "model.add(LSTM(64, activation='relu', input_shape=(trainX.shape[1], trainX.shape[2]), return_sequences=True))\n",
        "model.add(LSTM(32, activation='relu', return_sequences=False))\n",
        "model.add(Dropout(0.2))\n",
        "model.add(Dense(trainY.shape[1]))\n",
        "\n",
        "model.compile(optimizer='adam', loss='mse')\n",
        "model.summary()"
      ],
      "metadata": {
        "colab": {
          "base_uri": "https://localhost:8080/"
        },
        "id": "m-1KX24b6PAF",
        "outputId": "819da3e7-7afb-4739-9336-47c030d3231b"
      },
      "execution_count": 30,
      "outputs": [
        {
          "output_type": "stream",
          "name": "stderr",
          "text": [
            "WARNING:tensorflow:Layer lstm will not use cuDNN kernels since it doesn't meet the criteria. It will use a generic GPU kernel as fallback when running on GPU.\n",
            "WARNING:tensorflow:Layer lstm_1 will not use cuDNN kernels since it doesn't meet the criteria. It will use a generic GPU kernel as fallback when running on GPU.\n"
          ]
        },
        {
          "output_type": "stream",
          "name": "stdout",
          "text": [
            "Model: \"sequential\"\n",
            "_________________________________________________________________\n",
            " Layer (type)                Output Shape              Param #   \n",
            "=================================================================\n",
            " lstm (LSTM)                 (None, 14, 64)            17920     \n",
            "                                                                 \n",
            " lstm_1 (LSTM)               (None, 32)                12416     \n",
            "                                                                 \n",
            " dropout (Dropout)           (None, 32)                0         \n",
            "                                                                 \n",
            " dense (Dense)               (None, 1)                 33        \n",
            "                                                                 \n",
            "=================================================================\n",
            "Total params: 30,369\n",
            "Trainable params: 30,369\n",
            "Non-trainable params: 0\n",
            "_________________________________________________________________\n"
          ]
        }
      ]
    },
    {
      "cell_type": "code",
      "source": [
        "history = model.fit(trainX, trainY, epochs=5, batch_size=16, validation_split=0.1, verbose=1)\n"
      ],
      "metadata": {
        "colab": {
          "base_uri": "https://localhost:8080/"
        },
        "id": "6Sdp0Er77wKk",
        "outputId": "2c62f5b5-754c-4566-84c7-796b58d74719"
      },
      "execution_count": 31,
      "outputs": [
        {
          "output_type": "stream",
          "name": "stdout",
          "text": [
            "Epoch 1/5\n",
            "870/870 [==============================] - 60s 58ms/step - loss: 0.0624 - val_loss: 0.0060\n",
            "Epoch 2/5\n",
            "870/870 [==============================] - 52s 60ms/step - loss: 0.0300 - val_loss: 0.0056\n",
            "Epoch 3/5\n",
            "870/870 [==============================] - 52s 60ms/step - loss: 0.0287 - val_loss: 0.0032\n",
            "Epoch 4/5\n",
            "870/870 [==============================] - 51s 59ms/step - loss: 0.0283 - val_loss: 0.0024\n",
            "Epoch 5/5\n",
            "870/870 [==============================] - 51s 58ms/step - loss: 0.0283 - val_loss: 0.0020\n"
          ]
        }
      ]
    },
    {
      "cell_type": "code",
      "source": [
        "plt.plot(history.history['loss'], label='Training loss')\n",
        "plt.plot(history.history['val_loss'], label='Validation loss')\n",
        "plt.legend()"
      ],
      "metadata": {
        "colab": {
          "base_uri": "https://localhost:8080/",
          "height": 448
        },
        "id": "YSDAeQP7-Aj4",
        "outputId": "aabe84ef-7869-45da-ba3e-4ffcf5a44fdd"
      },
      "execution_count": 32,
      "outputs": [
        {
          "output_type": "execute_result",
          "data": {
            "text/plain": [
              "<matplotlib.legend.Legend at 0x7f6ea1c2e2c0>"
            ]
          },
          "metadata": {},
          "execution_count": 32
        },
        {
          "output_type": "display_data",
          "data": {
            "text/plain": [
              "<Figure size 640x480 with 1 Axes>"
            ],
            "image/png": "[encoded data removed]"
          },
          "metadata": {}
        }
      ]
    },
    {
      "cell_type": "code",
      "source": [
        "from pandas.tseries.holiday import USFederalHolidayCalendar\n",
        "from pandas.tseries.offsets import CustomBusinessDay\n",
        "us_bd = CustomBusinessDay(calendar=USFederalHolidayCalendar())"
      ],
      "metadata": {
        "id": "DTjrkreL-Bs9"
      },
      "execution_count": 33,
      "outputs": []
    },
    {
      "cell_type": "code",
      "source": [
        "n_future=90\n",
        "forecast_period_dates=pd.date_range(list(train_dates)[-1],periods=n_future,freq='1d').tolist()"
      ],
      "metadata": {
        "id": "vULO3pIs-Nkx"
      },
      "execution_count": 42,
      "outputs": []
    },
    {
      "cell_type": "code",
      "source": [
        "forecast_period_dates"
      ],
      "metadata": {
        "colab": {
          "base_uri": "https://localhost:8080/"
        },
        "id": "QxqKahNYB3Sy",
        "outputId": "a469b714-f446-4355-db21-f6b785807a98"
      },
      "execution_count": 50,
      "outputs": [
        {
          "output_type": "execute_result",
          "data": {
            "text/plain": [
              "[Timestamp('2023-06-16 00:00:00', freq='D'),\n",
              " Timestamp('2023-06-17 00:00:00', freq='D'),\n",
              " Timestamp('2023-06-18 00:00:00', freq='D'),\n",
              " Timestamp('2023-06-19 00:00:00', freq='D'),\n",
              " Timestamp('2023-06-20 00:00:00', freq='D'),\n",
              " Timestamp('2023-06-21 00:00:00', freq='D'),\n",
              " Timestamp('2023-06-22 00:00:00', freq='D'),\n",
              " Timestamp('2023-06-23 00:00:00', freq='D'),\n",
              " Timestamp('2023-06-24 00:00:00', freq='D'),\n",
              " Timestamp('2023-06-25 00:00:00', freq='D'),\n",
              " Timestamp('2023-06-26 00:00:00', freq='D'),\n",
              " Timestamp('2023-06-27 00:00:00', freq='D'),\n",
              " Timestamp('2023-06-28 00:00:00', freq='D'),\n",
              " Timestamp('2023-06-29 00:00:00', freq='D'),\n",
              " Timestamp('2023-06-30 00:00:00', freq='D'),\n",
              " Timestamp('2023-07-01 00:00:00', freq='D'),\n",
              " Timestamp('2023-07-02 00:00:00', freq='D'),\n",
              " Timestamp('2023-07-03 00:00:00', freq='D'),\n",
              " Timestamp('2023-07-04 00:00:00', freq='D'),\n",
              " Timestamp('2023-07-05 00:00:00', freq='D'),\n",
              " Timestamp('2023-07-06 00:00:00', freq='D'),\n",
              " Timestamp('2023-07-07 00:00:00', freq='D'),\n",
              " Timestamp('2023-07-08 00:00:00', freq='D'),\n",
              " Timestamp('2023-07-09 00:00:00', freq='D'),\n",
              " Timestamp('2023-07-10 00:00:00', freq='D'),\n",
              " Timestamp('2023-07-11 00:00:00', freq='D'),\n",
              " Timestamp('2023-07-12 00:00:00', freq='D'),\n",
              " Timestamp('2023-07-13 00:00:00', freq='D'),\n",
              " Timestamp('2023-07-14 00:00:00', freq='D'),\n",
              " Timestamp('2023-07-15 00:00:00', freq='D'),\n",
              " Timestamp('2023-07-16 00:00:00', freq='D'),\n",
              " Timestamp('2023-07-17 00:00:00', freq='D'),\n",
              " Timestamp('2023-07-18 00:00:00', freq='D'),\n",
              " Timestamp('2023-07-19 00:00:00', freq='D'),\n",
              " Timestamp('2023-07-20 00:00:00', freq='D'),\n",
              " Timestamp('2023-07-21 00:00:00', freq='D'),\n",
              " Timestamp('2023-07-22 00:00:00', freq='D'),\n",
              " Timestamp('2023-07-23 00:00:00', freq='D'),\n",
              " Timestamp('2023-07-24 00:00:00', freq='D'),\n",
              " Timestamp('2023-07-25 00:00:00', freq='D'),\n",
              " Timestamp('2023-07-26 00:00:00', freq='D'),\n",
              " Timestamp('2023-07-27 00:00:00', freq='D'),\n",
              " Timestamp('2023-07-28 00:00:00', freq='D'),\n",
              " Timestamp('2023-07-29 00:00:00', freq='D'),\n",
              " Timestamp('2023-07-30 00:00:00', freq='D'),\n",
              " Timestamp('2023-07-31 00:00:00', freq='D'),\n",
              " Timestamp('2023-08-01 00:00:00', freq='D'),\n",
              " Timestamp('2023-08-02 00:00:00', freq='D'),\n",
              " Timestamp('2023-08-03 00:00:00', freq='D'),\n",
              " Timestamp('2023-08-04 00:00:00', freq='D'),\n",
              " Timestamp('2023-08-05 00:00:00', freq='D'),\n",
              " Timestamp('2023-08-06 00:00:00', freq='D'),\n",
              " Timestamp('2023-08-07 00:00:00', freq='D'),\n",
              " Timestamp('2023-08-08 00:00:00', freq='D'),\n",
              " Timestamp('2023-08-09 00:00:00', freq='D'),\n",
              " Timestamp('2023-08-10 00:00:00', freq='D'),\n",
              " Timestamp('2023-08-11 00:00:00', freq='D'),\n",
              " Timestamp('2023-08-12 00:00:00', freq='D'),\n",
              " Timestamp('2023-08-13 00:00:00', freq='D'),\n",
              " Timestamp('2023-08-14 00:00:00', freq='D'),\n",
              " Timestamp('2023-08-15 00:00:00', freq='D'),\n",
              " Timestamp('2023-08-16 00:00:00', freq='D'),\n",
              " Timestamp('2023-08-17 00:00:00', freq='D'),\n",
              " Timestamp('2023-08-18 00:00:00', freq='D'),\n",
              " Timestamp('2023-08-19 00:00:00', freq='D'),\n",
              " Timestamp('2023-08-20 00:00:00', freq='D'),\n",
              " Timestamp('2023-08-21 00:00:00', freq='D'),\n",
              " Timestamp('2023-08-22 00:00:00', freq='D'),\n",
              " Timestamp('2023-08-23 00:00:00', freq='D'),\n",
              " Timestamp('2023-08-24 00:00:00', freq='D'),\n",
              " Timestamp('2023-08-25 00:00:00', freq='D'),\n",
              " Timestamp('2023-08-26 00:00:00', freq='D'),\n",
              " Timestamp('2023-08-27 00:00:00', freq='D'),\n",
              " Timestamp('2023-08-28 00:00:00', freq='D'),\n",
              " Timestamp('2023-08-29 00:00:00', freq='D'),\n",
              " Timestamp('2023-08-30 00:00:00', freq='D'),\n",
              " Timestamp('2023-08-31 00:00:00', freq='D'),\n",
              " Timestamp('2023-09-01 00:00:00', freq='D'),\n",
              " Timestamp('2023-09-02 00:00:00', freq='D'),\n",
              " Timestamp('2023-09-03 00:00:00', freq='D'),\n",
              " Timestamp('2023-09-04 00:00:00', freq='D'),\n",
              " Timestamp('2023-09-05 00:00:00', freq='D'),\n",
              " Timestamp('2023-09-06 00:00:00', freq='D'),\n",
              " Timestamp('2023-09-07 00:00:00', freq='D'),\n",
              " Timestamp('2023-09-08 00:00:00', freq='D'),\n",
              " Timestamp('2023-09-09 00:00:00', freq='D'),\n",
              " Timestamp('2023-09-10 00:00:00', freq='D'),\n",
              " Timestamp('2023-09-11 00:00:00', freq='D'),\n",
              " Timestamp('2023-09-12 00:00:00', freq='D'),\n",
              " Timestamp('2023-09-13 00:00:00', freq='D')]"
            ]
          },
          "metadata": {},
          "execution_count": 50
        }
      ]
    },
    {
      "cell_type": "code",
      "source": [
        "forecast = model.predict(trainX[-n_future:])"
      ],
      "metadata": {
        "colab": {
          "base_uri": "https://localhost:8080/"
        },
        "id": "frae96WU-YWa",
        "outputId": "e0516cfa-b3b1-4986-bdfd-a3f5f53d2658"
      },
      "execution_count": 43,
      "outputs": [
        {
          "output_type": "stream",
          "name": "stdout",
          "text": [
            "3/3 [==============================] - 0s 18ms/step\n"
          ]
        }
      ]
    },
    {
      "cell_type": "code",
      "source": [
        "forecast_copies = np.repeat(forecast, df_for_training.shape[1], axis=-1)\n",
        "y_pred_future = scaler.inverse_transform(forecast_copies)[:,0]"
      ],
      "metadata": {
        "id": "iUJvPb1j-d_g"
      },
      "execution_count": 44,
      "outputs": []
    },
    {
      "cell_type": "code",
      "source": [
        "y_pred_future"
      ],
      "metadata": {
        "colab": {
          "base_uri": "https://localhost:8080/"
        },
        "id": "YqRTshqnCDMz",
        "outputId": "da6e8eb0-8138-47cc-9278-c2e4eeedbf4c"
      },
      "execution_count": 51,
      "outputs": [
        {
          "output_type": "execute_result",
          "data": {
            "text/plain": [
              "array([ 82.745224,  82.83523 ,  82.778755,  82.6362  ,  82.60294 ,\n",
              "        82.732216,  83.033485,  83.37655 ,  83.62447 ,  83.72336 ,\n",
              "        83.832855,  83.92288 ,  83.98421 ,  84.10992 ,  84.31198 ,\n",
              "        84.51986 ,  84.79103 ,  85.18927 ,  85.72198 ,  86.23905 ,\n",
              "        86.72446 ,  87.59949 ,  88.62431 ,  89.36437 ,  90.10164 ,\n",
              "        90.47751 ,  90.826225,  91.0798  ,  91.20276 ,  91.42919 ,\n",
              "        91.54537 ,  91.69416 ,  91.82077 ,  92.13022 ,  92.53444 ,\n",
              "        93.046074,  93.5503  ,  94.10646 ,  94.78006 ,  95.373245,\n",
              "        95.684845,  95.71322 ,  95.64114 ,  95.50366 ,  95.365036,\n",
              "        95.212776,  95.17219 ,  95.36554 ,  95.84979 ,  96.56474 ,\n",
              "        97.42482 ,  98.26136 ,  99.023605,  99.53333 ,  99.49071 ,\n",
              "        99.25855 ,  99.04141 ,  99.12343 ,  99.425026,  99.93758 ,\n",
              "       100.250404, 100.52789 , 100.728455, 100.9103  , 100.91913 ,\n",
              "       100.74389 , 100.43185 , 100.35524 , 100.4839  , 100.851326,\n",
              "       101.38158 , 102.067444, 102.800224, 103.17057 , 103.034195,\n",
              "       102.71085 , 102.46887 , 102.27084 , 102.01613 , 102.0472  ,\n",
              "       102.49328 , 103.03607 , 103.632675, 104.28027 , 104.8427  ,\n",
              "       105.238594, 105.50105 , 105.70983 , 105.701195, 105.53968 ],\n",
              "      dtype=float32)"
            ]
          },
          "metadata": {},
          "execution_count": 51
        }
      ]
    },
    {
      "cell_type": "code",
      "source": [
        "forecast_dates = []\n",
        "for time_i in forecast_period_dates:\n",
        "    forecast_dates.append(time_i.date())"
      ],
      "metadata": {
        "id": "sPMymS0J-iHg"
      },
      "execution_count": 45,
      "outputs": []
    },
    {
      "cell_type": "code",
      "source": [
        "forecast_dates"
      ],
      "metadata": {
        "colab": {
          "base_uri": "https://localhost:8080/"
        },
        "id": "Sq_1MBkGCSoW",
        "outputId": "24530d05-1e1e-45d9-ae24-5504d8e59b7c"
      },
      "execution_count": 52,
      "outputs": [
        {
          "output_type": "execute_result",
          "data": {
            "text/plain": [
              "[datetime.date(2023, 6, 16),\n",
              " datetime.date(2023, 6, 17),\n",
              " datetime.date(2023, 6, 18),\n",
              " datetime.date(2023, 6, 19),\n",
              " datetime.date(2023, 6, 20),\n",
              " datetime.date(2023, 6, 21),\n",
              " datetime.date(2023, 6, 22),\n",
              " datetime.date(2023, 6, 23),\n",
              " datetime.date(2023, 6, 24),\n",
              " datetime.date(2023, 6, 25),\n",
              " datetime.date(2023, 6, 26),\n",
              " datetime.date(2023, 6, 27),\n",
              " datetime.date(2023, 6, 28),\n",
              " datetime.date(2023, 6, 29),\n",
              " datetime.date(2023, 6, 30),\n",
              " datetime.date(2023, 7, 1),\n",
              " datetime.date(2023, 7, 2),\n",
              " datetime.date(2023, 7, 3),\n",
              " datetime.date(2023, 7, 4),\n",
              " datetime.date(2023, 7, 5),\n",
              " datetime.date(2023, 7, 6),\n",
              " datetime.date(2023, 7, 7),\n",
              " datetime.date(2023, 7, 8),\n",
              " datetime.date(2023, 7, 9),\n",
              " datetime.date(2023, 7, 10),\n",
              " datetime.date(2023, 7, 11),\n",
              " datetime.date(2023, 7, 12),\n",
              " datetime.date(2023, 7, 13),\n",
              " datetime.date(2023, 7, 14),\n",
              " datetime.date(2023, 7, 15),\n",
              " datetime.date(2023, 7, 16),\n",
              " datetime.date(2023, 7, 17),\n",
              " datetime.date(2023, 7, 18),\n",
              " datetime.date(2023, 7, 19),\n",
              " datetime.date(2023, 7, 20),\n",
              " datetime.date(2023, 7, 21),\n",
              " datetime.date(2023, 7, 22),\n",
              " datetime.date(2023, 7, 23),\n",
              " datetime.date(2023, 7, 24),\n",
              " datetime.date(2023, 7, 25),\n",
              " datetime.date(2023, 7, 26),\n",
              " datetime.date(2023, 7, 27),\n",
              " datetime.date(2023, 7, 28),\n",
              " datetime.date(2023, 7, 29),\n",
              " datetime.date(2023, 7, 30),\n",
              " datetime.date(2023, 7, 31),\n",
              " datetime.date(2023, 8, 1),\n",
              " datetime.date(2023, 8, 2),\n",
              " datetime.date(2023, 8, 3),\n",
              " datetime.date(2023, 8, 4),\n",
              " datetime.date(2023, 8, 5),\n",
              " datetime.date(2023, 8, 6),\n",
              " datetime.date(2023, 8, 7),\n",
              " datetime.date(2023, 8, 8),\n",
              " datetime.date(2023, 8, 9),\n",
              " datetime.date(2023, 8, 10),\n",
              " datetime.date(2023, 8, 11),\n",
              " datetime.date(2023, 8, 12),\n",
              " datetime.date(2023, 8, 13),\n",
              " datetime.date(2023, 8, 14),\n",
              " datetime.date(2023, 8, 15),\n",
              " datetime.date(2023, 8, 16),\n",
              " datetime.date(2023, 8, 17),\n",
              " datetime.date(2023, 8, 18),\n",
              " datetime.date(2023, 8, 19),\n",
              " datetime.date(2023, 8, 20),\n",
              " datetime.date(2023, 8, 21),\n",
              " datetime.date(2023, 8, 22),\n",
              " datetime.date(2023, 8, 23),\n",
              " datetime.date(2023, 8, 24),\n",
              " datetime.date(2023, 8, 25),\n",
              " datetime.date(2023, 8, 26),\n",
              " datetime.date(2023, 8, 27),\n",
              " datetime.date(2023, 8, 28),\n",
              " datetime.date(2023, 8, 29),\n",
              " datetime.date(2023, 8, 30),\n",
              " datetime.date(2023, 8, 31),\n",
              " datetime.date(2023, 9, 1),\n",
              " datetime.date(2023, 9, 2),\n",
              " datetime.date(2023, 9, 3),\n",
              " datetime.date(2023, 9, 4),\n",
              " datetime.date(2023, 9, 5),\n",
              " datetime.date(2023, 9, 6),\n",
              " datetime.date(2023, 9, 7),\n",
              " datetime.date(2023, 9, 8),\n",
              " datetime.date(2023, 9, 9),\n",
              " datetime.date(2023, 9, 10),\n",
              " datetime.date(2023, 9, 11),\n",
              " datetime.date(2023, 9, 12),\n",
              " datetime.date(2023, 9, 13)]"
            ]
          },
          "metadata": {},
          "execution_count": 52
        }
      ]
    },
    {
      "cell_type": "code",
      "source": [
        "df_forecast = pd.DataFrame({'Date':np.array(forecast_dates), 'Open':y_pred_future})\n",
        "df_forecast['Date']=pd.to_datetime(df_forecast['Date'])"
      ],
      "metadata": {
        "id": "n4wEEcYl-n_w"
      },
      "execution_count": 46,
      "outputs": []
    },
    {
      "cell_type": "code",
      "source": [
        "df_forecast"
      ],
      "metadata": {
        "colab": {
          "base_uri": "https://localhost:8080/",
          "height": 423
        },
        "id": "qsD0VHleCWwW",
        "outputId": "e6f11b5b-feb7-4416-ed31-4bc3a61ac520"
      },
      "execution_count": 53,
      "outputs": [
        {
          "output_type": "execute_result",
          "data": {
            "text/plain": [
              "         Date        Open\n",
              "0  2023-06-16   82.745224\n",
              "1  2023-06-17   82.835228\n",
              "2  2023-06-18   82.778755\n",
              "3  2023-06-19   82.636200\n",
              "4  2023-06-20   82.602943\n",
              "..        ...         ...\n",
              "85 2023-09-09  105.238594\n",
              "86 2023-09-10  105.501053\n",
              "87 2023-09-11  105.709831\n",
              "88 2023-09-12  105.701195\n",
              "89 2023-09-13  105.539680\n",
              "\n",
              "[90 rows x 2 columns]"
            ],
            "text/html": [
              "\n",
              "  <div id=\"df-2fa0c6a3-3df8-47aa-87ce-044fb001d3e6\">\n",
              "    <div class=\"colab-df-container\">\n",
              "      <div>\n",
              "<style scoped>\n",
              "    .dataframe tbody tr th:only-of-type {\n",
              "        vertical-align: middle;\n",
              "    }\n",
              "\n",
              "    .dataframe tbody tr th {\n",
              "        vertical-align: top;\n",
              "    }\n",
              "\n",
              "    .dataframe thead th {\n",
              "        text-align: right;\n",
              "    }\n",
              "</style>\n",
              "<table border=\"1\" class=\"dataframe\">\n",
              "  <thead>\n",
              "    <tr style=\"text-align: right;\">\n",
              "      <th></th>\n",
              "      <th>Date</th>\n",
              "      <th>Open</th>\n",
              "    </tr>\n",
              "  </thead>\n",
              "  <tbody>\n",
              "    <tr>\n",
              "      <th>0</th>\n",
              "      <td>2023-06-16</td>\n",
              "      <td>82.745224</td>\n",
              "    </tr>\n",
              "    <tr>\n",
              "      <th>1</th>\n",
              "      <td>2023-06-17</td>\n",
              "      <td>82.835228</td>\n",
              "    </tr>\n",
              "    <tr>\n",
              "      <th>2</th>\n",
              "      <td>2023-06-18</td>\n",
              "      <td>82.778755</td>\n",
              "    </tr>\n",
              "    <tr>\n",
              "      <th>3</th>\n",
              "      <td>2023-06-19</td>\n",
              "      <td>82.636200</td>\n",
              "    </tr>\n",
              "    <tr>\n",
              "      <th>4</th>\n",
              "      <td>2023-06-20</td>\n",
              "      <td>82.602943</td>\n",
              "    </tr>\n",
              "    <tr>\n",
              "      <th>...</th>\n",
              "      <td>...</td>\n",
              "      <td>...</td>\n",
              "    </tr>\n",
              "    <tr>\n",
              "      <th>85</th>\n",
              "      <td>2023-09-09</td>\n",
              "      <td>105.238594</td>\n",
              "    </tr>\n",
              "    <tr>\n",
              "      <th>86</th>\n",
              "      <td>2023-09-10</td>\n",
              "      <td>105.501053</td>\n",
              "    </tr>\n",
              "    <tr>\n",
              "      <th>87</th>\n",
              "      <td>2023-09-11</td>\n",
              "      <td>105.709831</td>\n",
              "    </tr>\n",
              "    <tr>\n",
              "      <th>88</th>\n",
              "      <td>2023-09-12</td>\n",
              "      <td>105.701195</td>\n",
              "    </tr>\n",
              "    <tr>\n",
              "      <th>89</th>\n",
              "      <td>2023-09-13</td>\n",
              "      <td>105.539680</td>\n",
              "    </tr>\n",
              "  </tbody>\n",
              "</table>\n",
              "<p>90 rows × 2 columns</p>\n",
              "</div>\n",
              "      <button class=\"colab-df-convert\" onclick=\"convertToInteractive('df-2fa0c6a3-3df8-47aa-87ce-044fb001d3e6')\"\n",
              "              title=\"Convert this dataframe to an interactive table.\"\n",
              "              style=\"display:none;\">\n",
              "        \n",
              "  <svg xmlns=\"http://www.w3.org/2000/svg\" height=\"24px\"viewBox=\"0 0 24 24\"\n",
              "       width=\"24px\">\n",
              "    <path d=\"M0 0h24v24H0V0z\" fill=\"none\"/>\n",
              "    <path d=\"M18.56 5.44l.94 2.06.94-2.06 2.06-.94-2.06-.94-.94-2.06-.94 2.06-2.06.94zm-11 1L8.5 8.5l.94-2.06 2.06-.94-2.06-.94L8.5 2.5l-.94 2.06-2.06.94zm10 10l.94 2.06.94-2.06 2.06-.94-2.06-.94-.94-2.06-.94 2.06-2.06.94z\"/><path d=\"M17.41 7.96l-1.37-1.37c-.4-.4-.92-.59-1.43-.59-.52 0-1.04.2-1.43.59L10.3 9.45l-7.72 7.72c-.78.78-.78 2.05 0 2.83L4 21.41c.39.39.9.59 1.41.59.51 0 1.02-.2 1.41-.59l7.78-7.78 2.81-2.81c.8-.78.8-2.07 0-2.86zM5.41 20L4 18.59l7.72-7.72 1.47 1.35L5.41 20z\"/>\n",
              "  </svg>\n",
              "      </button>\n",
              "      \n",
              "  <style>\n",
              "    .colab-df-container {\n",
              "      display:flex;\n",
              "      flex-wrap:wrap;\n",
              "      gap: 12px;\n",
              "    }\n",
              "\n",
              "    .colab-df-convert {\n",
              "      background-color: #E8F0FE;\n",
              "      border: none;\n",
              "      border-radius: 50%;\n",
              "      cursor: pointer;\n",
              "      display: none;\n",
              "      fill: #1967D2;\n",
              "      height: 32px;\n",
              "      padding: 0 0 0 0;\n",
              "      width: 32px;\n",
              "    }\n",
              "\n",
              "    .colab-df-convert:hover {\n",
              "      background-color: #E2EBFA;\n",
              "      box-shadow: 0px 1px 2px rgba(60, 64, 67, 0.3), 0px 1px 3px 1px rgba(60, 64, 67, 0.15);\n",
              "      fill: #174EA6;\n",
              "    }\n",
              "\n",
              "    [theme=dark] .colab-df-convert {\n",
              "      background-color: #3B4455;\n",
              "      fill: #D2E3FC;\n",
              "    }\n",
              "\n",
              "    [theme=dark] .colab-df-convert:hover {\n",
              "      background-color: #434B5C;\n",
              "      box-shadow: 0px 1px 3px 1px rgba(0, 0, 0, 0.15);\n",
              "      filter: drop-shadow(0px 1px 2px rgba(0, 0, 0, 0.3));\n",
              "      fill: #FFFFFF;\n",
              "    }\n",
              "  </style>\n",
              "\n",
              "      <script>\n",
              "        const buttonEl =\n",
              "          document.querySelector('#df-2fa0c6a3-3df8-47aa-87ce-044fb001d3e6 button.colab-df-convert');\n",
              "        buttonEl.style.display =\n",
              "          google.colab.kernel.accessAllowed ? 'block' : 'none';\n",
              "\n",
              "        async function convertToInteractive(key) {\n",
              "          const element = document.querySelector('#df-2fa0c6a3-3df8-47aa-87ce-044fb001d3e6');\n",
              "          const dataTable =\n",
              "            await google.colab.kernel.invokeFunction('convertToInteractive',\n",
              "                                                     [key], {});\n",
              "          if (!dataTable) return;\n",
              "\n",
              "          const docLinkHtml = 'Like what you see? Visit the ' +\n",
              "            '<a target=\"_blank\" href=https://colab.research.google.com/notebooks/data_table.ipynb>data table notebook</a>'\n",
              "            + ' to learn more about interactive tables.';\n",
              "          element.innerHTML = '';\n",
              "          dataTable['output_type'] = 'display_data';\n",
              "          await google.colab.output.renderOutput(dataTable, element);\n",
              "          const docLink = document.createElement('div');\n",
              "          docLink.innerHTML = docLinkHtml;\n",
              "          element.appendChild(docLink);\n",
              "        }\n",
              "      </script>\n",
              "    </div>\n",
              "  </div>\n",
              "  "
            ]
          },
          "metadata": {},
          "execution_count": 53
        }
      ]
    },
    {
      "cell_type": "code",
      "source": [
        "original = df[['Date', 'Open']]\n",
        "original['Date']=pd.to_datetime(original['Date'])\n",
        "original = original.loc[original['Date'] >= '2020-5-1']"
      ],
      "metadata": {
        "colab": {
          "base_uri": "https://localhost:8080/"
        },
        "id": "5qgT3OuU-qng",
        "outputId": "98ea0e5b-e778-45d2-b1cb-9445611fe095"
      },
      "execution_count": 48,
      "outputs": [
        {
          "output_type": "stream",
          "name": "stderr",
          "text": [
            "<ipython-input-48-023fd395994a>:2: SettingWithCopyWarning: \n",
            "A value is trying to be set on a copy of a slice from a DataFrame.\n",
            "Try using .loc[row_indexer,col_indexer] = value instead\n",
            "\n",
            "See the caveats in the documentation: https://pandas.pydata.org/pandas-docs/stable/user_guide/indexing.html#returning-a-view-versus-a-copy\n",
            "  original['Date']=pd.to_datetime(original['Date'])\n"
          ]
        }
      ]
    },
    {
      "cell_type": "code",
      "source": [
        "original"
      ],
      "metadata": {
        "colab": {
          "base_uri": "https://localhost:8080/",
          "height": 423
        },
        "id": "LkTkJKF2Cbqe",
        "outputId": "f8a8e3c9-94f7-46d4-d893-29208012ec3a"
      },
      "execution_count": 54,
      "outputs": [
        {
          "output_type": "execute_result",
          "data": {
            "text/plain": [
              "            Date        Open\n",
              "14683 2020-05-01   41.654957\n",
              "14684 2020-05-04   39.344261\n",
              "14685 2020-05-05   39.219360\n",
              "14686 2020-05-06   38.719749\n",
              "14687 2020-05-07   37.845432\n",
              "...          ...         ...\n",
              "15466 2023-06-12  106.309998\n",
              "15467 2023-06-13  106.029999\n",
              "15468 2023-06-14  106.720001\n",
              "15469 2023-06-15  104.440002\n",
              "15470 2023-06-16  105.949997\n",
              "\n",
              "[788 rows x 2 columns]"
            ],
            "text/html": [
              "\n",
              "  <div id=\"df-9431bfd2-571e-48b2-ae98-1f63f8854b27\">\n",
              "    <div class=\"colab-df-container\">\n",
              "      <div>\n",
              "<style scoped>\n",
              "    .dataframe tbody tr th:only-of-type {\n",
              "        vertical-align: middle;\n",
              "    }\n",
              "\n",
              "    .dataframe tbody tr th {\n",
              "        vertical-align: top;\n",
              "    }\n",
              "\n",
              "    .dataframe thead th {\n",
              "        text-align: right;\n",
              "    }\n",
              "</style>\n",
              "<table border=\"1\" class=\"dataframe\">\n",
              "  <thead>\n",
              "    <tr style=\"text-align: right;\">\n",
              "      <th></th>\n",
              "      <th>Date</th>\n",
              "      <th>Open</th>\n",
              "    </tr>\n",
              "  </thead>\n",
              "  <tbody>\n",
              "    <tr>\n",
              "      <th>14683</th>\n",
              "      <td>2020-05-01</td>\n",
              "      <td>41.654957</td>\n",
              "    </tr>\n",
              "    <tr>\n",
              "      <th>14684</th>\n",
              "      <td>2020-05-04</td>\n",
              "      <td>39.344261</td>\n",
              "    </tr>\n",
              "    <tr>\n",
              "      <th>14685</th>\n",
              "      <td>2020-05-05</td>\n",
              "      <td>39.219360</td>\n",
              "    </tr>\n",
              "    <tr>\n",
              "      <th>14686</th>\n",
              "      <td>2020-05-06</td>\n",
              "      <td>38.719749</td>\n",
              "    </tr>\n",
              "    <tr>\n",
              "      <th>14687</th>\n",
              "      <td>2020-05-07</td>\n",
              "      <td>37.845432</td>\n",
              "    </tr>\n",
              "    <tr>\n",
              "      <th>...</th>\n",
              "      <td>...</td>\n",
              "      <td>...</td>\n",
              "    </tr>\n",
              "    <tr>\n",
              "      <th>15466</th>\n",
              "      <td>2023-06-12</td>\n",
              "      <td>106.309998</td>\n",
              "    </tr>\n",
              "    <tr>\n",
              "      <th>15467</th>\n",
              "      <td>2023-06-13</td>\n",
              "      <td>106.029999</td>\n",
              "    </tr>\n",
              "    <tr>\n",
              "      <th>15468</th>\n",
              "      <td>2023-06-14</td>\n",
              "      <td>106.720001</td>\n",
              "    </tr>\n",
              "    <tr>\n",
              "      <th>15469</th>\n",
              "      <td>2023-06-15</td>\n",
              "      <td>104.440002</td>\n",
              "    </tr>\n",
              "    <tr>\n",
              "      <th>15470</th>\n",
              "      <td>2023-06-16</td>\n",
              "      <td>105.949997</td>\n",
              "    </tr>\n",
              "  </tbody>\n",
              "</table>\n",
              "<p>788 rows × 2 columns</p>\n",
              "</div>\n",
              "      <button class=\"colab-df-convert\" onclick=\"convertToInteractive('df-9431bfd2-571e-48b2-ae98-1f63f8854b27')\"\n",
              "              title=\"Convert this dataframe to an interactive table.\"\n",
              "              style=\"display:none;\">\n",
              "        \n",
              "  <svg xmlns=\"http://www.w3.org/2000/svg\" height=\"24px\"viewBox=\"0 0 24 24\"\n",
              "       width=\"24px\">\n",
              "    <path d=\"M0 0h24v24H0V0z\" fill=\"none\"/>\n",
              "    <path d=\"M18.56 5.44l.94 2.06.94-2.06 2.06-.94-2.06-.94-.94-2.06-.94 2.06-2.06.94zm-11 1L8.5 8.5l.94-2.06 2.06-.94-2.06-.94L8.5 2.5l-.94 2.06-2.06.94zm10 10l.94 2.06.94-2.06 2.06-.94-2.06-.94-.94-2.06-.94 2.06-2.06.94z\"/><path d=\"M17.41 7.96l-1.37-1.37c-.4-.4-.92-.59-1.43-.59-.52 0-1.04.2-1.43.59L10.3 9.45l-7.72 7.72c-.78.78-.78 2.05 0 2.83L4 21.41c.39.39.9.59 1.41.59.51 0 1.02-.2 1.41-.59l7.78-7.78 2.81-2.81c.8-.78.8-2.07 0-2.86zM5.41 20L4 18.59l7.72-7.72 1.47 1.35L5.41 20z\"/>\n",
              "  </svg>\n",
              "      </button>\n",
              "      \n",
              "  <style>\n",
              "    .colab-df-container {\n",
              "      display:flex;\n",
              "      flex-wrap:wrap;\n",
              "      gap: 12px;\n",
              "    }\n",
              "\n",
              "    .colab-df-convert {\n",
              "      background-color: #E8F0FE;\n",
              "      border: none;\n",
              "      border-radius: 50%;\n",
              "      cursor: pointer;\n",
              "      display: none;\n",
              "      fill: #1967D2;\n",
              "      height: 32px;\n",
              "      padding: 0 0 0 0;\n",
              "      width: 32px;\n",
              "    }\n",
              "\n",
              "    .colab-df-convert:hover {\n",
              "      background-color: #E2EBFA;\n",
              "      box-shadow: 0px 1px 2px rgba(60, 64, 67, 0.3), 0px 1px 3px 1px rgba(60, 64, 67, 0.15);\n",
              "      fill: #174EA6;\n",
              "    }\n",
              "\n",
              "    [theme=dark] .colab-df-convert {\n",
              "      background-color: #3B4455;\n",
              "      fill: #D2E3FC;\n",
              "    }\n",
              "\n",
              "    [theme=dark] .colab-df-convert:hover {\n",
              "      background-color: #434B5C;\n",
              "      box-shadow: 0px 1px 3px 1px rgba(0, 0, 0, 0.15);\n",
              "      filter: drop-shadow(0px 1px 2px rgba(0, 0, 0, 0.3));\n",
              "      fill: #FFFFFF;\n",
              "    }\n",
              "  </style>\n",
              "\n",
              "      <script>\n",
              "        const buttonEl =\n",
              "          document.querySelector('#df-9431bfd2-571e-48b2-ae98-1f63f8854b27 button.colab-df-convert');\n",
              "        buttonEl.style.display =\n",
              "          google.colab.kernel.accessAllowed ? 'block' : 'none';\n",
              "\n",
              "        async function convertToInteractive(key) {\n",
              "          const element = document.querySelector('#df-9431bfd2-571e-48b2-ae98-1f63f8854b27');\n",
              "          const dataTable =\n",
              "            await google.colab.kernel.invokeFunction('convertToInteractive',\n",
              "                                                     [key], {});\n",
              "          if (!dataTable) return;\n",
              "\n",
              "          const docLinkHtml = 'Like what you see? Visit the ' +\n",
              "            '<a target=\"_blank\" href=https://colab.research.google.com/notebooks/data_table.ipynb>data table notebook</a>'\n",
              "            + ' to learn more about interactive tables.';\n",
              "          element.innerHTML = '';\n",
              "          dataTable['output_type'] = 'display_data';\n",
              "          await google.colab.output.renderOutput(dataTable, element);\n",
              "          const docLink = document.createElement('div');\n",
              "          docLink.innerHTML = docLinkHtml;\n",
              "          element.appendChild(docLink);\n",
              "        }\n",
              "      </script>\n",
              "    </div>\n",
              "  </div>\n",
              "  "
            ]
          },
          "metadata": {},
          "execution_count": 54
        }
      ]
    },
    {
      "cell_type": "code",
      "source": [
        "combined_df = pd.concat([original, df_forecast], axis=0)"
      ],
      "metadata": {
        "id": "Va9BTqYYD2bp"
      },
      "execution_count": 57,
      "outputs": []
    },
    {
      "cell_type": "code",
      "source": [
        "combined_df"
      ],
      "metadata": {
        "colab": {
          "base_uri": "https://localhost:8080/",
          "height": 423
        },
        "id": "LGpzS9P2Emd0",
        "outputId": "511fe4b6-ba19-4afb-930a-9f8ce07d289f"
      },
      "execution_count": 58,
      "outputs": [
        {
          "output_type": "execute_result",
          "data": {
            "text/plain": [
              "            Date        Open\n",
              "14683 2020-05-01   41.654957\n",
              "14684 2020-05-04   39.344261\n",
              "14685 2020-05-05   39.219360\n",
              "14686 2020-05-06   38.719749\n",
              "14687 2020-05-07   37.845432\n",
              "...          ...         ...\n",
              "85    2023-09-09  105.238594\n",
              "86    2023-09-10  105.501053\n",
              "87    2023-09-11  105.709831\n",
              "88    2023-09-12  105.701195\n",
              "89    2023-09-13  105.539680\n",
              "\n",
              "[878 rows x 2 columns]"
            ],
            "text/html": [
              "\n",
              "  <div id=\"df-c88cf755-deff-4907-9678-4adba608db1a\">\n",
              "    <div class=\"colab-df-container\">\n",
              "      <div>\n",
              "<style scoped>\n",
              "    .dataframe tbody tr th:only-of-type {\n",
              "        vertical-align: middle;\n",
              "    }\n",
              "\n",
              "    .dataframe tbody tr th {\n",
              "        vertical-align: top;\n",
              "    }\n",
              "\n",
              "    .dataframe thead th {\n",
              "        text-align: right;\n",
              "    }\n",
              "</style>\n",
              "<table border=\"1\" class=\"dataframe\">\n",
              "  <thead>\n",
              "    <tr style=\"text-align: right;\">\n",
              "      <th></th>\n",
              "      <th>Date</th>\n",
              "      <th>Open</th>\n",
              "    </tr>\n",
              "  </thead>\n",
              "  <tbody>\n",
              "    <tr>\n",
              "      <th>14683</th>\n",
              "      <td>2020-05-01</td>\n",
              "      <td>41.654957</td>\n",
              "    </tr>\n",
              "    <tr>\n",
              "      <th>14684</th>\n",
              "      <td>2020-05-04</td>\n",
              "      <td>39.344261</td>\n",
              "    </tr>\n",
              "    <tr>\n",
              "      <th>14685</th>\n",
              "      <td>2020-05-05</td>\n",
              "      <td>39.219360</td>\n",
              "    </tr>\n",
              "    <tr>\n",
              "      <th>14686</th>\n",
              "      <td>2020-05-06</td>\n",
              "      <td>38.719749</td>\n",
              "    </tr>\n",
              "    <tr>\n",
              "      <th>14687</th>\n",
              "      <td>2020-05-07</td>\n",
              "      <td>37.845432</td>\n",
              "    </tr>\n",
              "    <tr>\n",
              "      <th>...</th>\n",
              "      <td>...</td>\n",
              "      <td>...</td>\n",
              "    </tr>\n",
              "    <tr>\n",
              "      <th>85</th>\n",
              "      <td>2023-09-09</td>\n",
              "      <td>105.238594</td>\n",
              "    </tr>\n",
              "    <tr>\n",
              "      <th>86</th>\n",
              "      <td>2023-09-10</td>\n",
              "      <td>105.501053</td>\n",
              "    </tr>\n",
              "    <tr>\n",
              "      <th>87</th>\n",
              "      <td>2023-09-11</td>\n",
              "      <td>105.709831</td>\n",
              "    </tr>\n",
              "    <tr>\n",
              "      <th>88</th>\n",
              "      <td>2023-09-12</td>\n",
              "      <td>105.701195</td>\n",
              "    </tr>\n",
              "    <tr>\n",
              "      <th>89</th>\n",
              "      <td>2023-09-13</td>\n",
              "      <td>105.539680</td>\n",
              "    </tr>\n",
              "  </tbody>\n",
              "</table>\n",
              "<p>878 rows × 2 columns</p>\n",
              "</div>\n",
              "      <button class=\"colab-df-convert\" onclick=\"convertToInteractive('df-c88cf755-deff-4907-9678-4adba608db1a')\"\n",
              "              title=\"Convert this dataframe to an interactive table.\"\n",
              "              style=\"display:none;\">\n",
              "        \n",
              "  <svg xmlns=\"http://www.w3.org/2000/svg\" height=\"24px\"viewBox=\"0 0 24 24\"\n",
              "       width=\"24px\">\n",
              "    <path d=\"M0 0h24v24H0V0z\" fill=\"none\"/>\n",
              "    <path d=\"M18.56 5.44l.94 2.06.94-2.06 2.06-.94-2.06-.94-.94-2.06-.94 2.06-2.06.94zm-11 1L8.5 8.5l.94-2.06 2.06-.94-2.06-.94L8.5 2.5l-.94 2.06-2.06.94zm10 10l.94 2.06.94-2.06 2.06-.94-2.06-.94-.94-2.06-.94 2.06-2.06.94z\"/><path d=\"M17.41 7.96l-1.37-1.37c-.4-.4-.92-.59-1.43-.59-.52 0-1.04.2-1.43.59L10.3 9.45l-7.72 7.72c-.78.78-.78 2.05 0 2.83L4 21.41c.39.39.9.59 1.41.59.51 0 1.02-.2 1.41-.59l7.78-7.78 2.81-2.81c.8-.78.8-2.07 0-2.86zM5.41 20L4 18.59l7.72-7.72 1.47 1.35L5.41 20z\"/>\n",
              "  </svg>\n",
              "      </button>\n",
              "      \n",
              "  <style>\n",
              "    .colab-df-container {\n",
              "      display:flex;\n",
              "      flex-wrap:wrap;\n",
              "      gap: 12px;\n",
              "    }\n",
              "\n",
              "    .colab-df-convert {\n",
              "      background-color: #E8F0FE;\n",
              "      border: none;\n",
              "      border-radius: 50%;\n",
              "      cursor: pointer;\n",
              "      display: none;\n",
              "      fill: #1967D2;\n",
              "      height: 32px;\n",
              "      padding: 0 0 0 0;\n",
              "      width: 32px;\n",
              "    }\n",
              "\n",
              "    .colab-df-convert:hover {\n",
              "      background-color: #E2EBFA;\n",
              "      box-shadow: 0px 1px 2px rgba(60, 64, 67, 0.3), 0px 1px 3px 1px rgba(60, 64, 67, 0.15);\n",
              "      fill: #174EA6;\n",
              "    }\n",
              "\n",
              "    [theme=dark] .colab-df-convert {\n",
              "      background-color: #3B4455;\n",
              "      fill: #D2E3FC;\n",
              "    }\n",
              "\n",
              "    [theme=dark] .colab-df-convert:hover {\n",
              "      background-color: #434B5C;\n",
              "      box-shadow: 0px 1px 3px 1px rgba(0, 0, 0, 0.15);\n",
              "      filter: drop-shadow(0px 1px 2px rgba(0, 0, 0, 0.3));\n",
              "      fill: #FFFFFF;\n",
              "    }\n",
              "  </style>\n",
              "\n",
              "      <script>\n",
              "        const buttonEl =\n",
              "          document.querySelector('#df-c88cf755-deff-4907-9678-4adba608db1a button.colab-df-convert');\n",
              "        buttonEl.style.display =\n",
              "          google.colab.kernel.accessAllowed ? 'block' : 'none';\n",
              "\n",
              "        async function convertToInteractive(key) {\n",
              "          const element = document.querySelector('#df-c88cf755-deff-4907-9678-4adba608db1a');\n",
              "          const dataTable =\n",
              "            await google.colab.kernel.invokeFunction('convertToInteractive',\n",
              "                                                     [key], {});\n",
              "          if (!dataTable) return;\n",
              "\n",
              "          const docLinkHtml = 'Like what you see? Visit the ' +\n",
              "            '<a target=\"_blank\" href=https://colab.research.google.com/notebooks/data_table.ipynb>data table notebook</a>'\n",
              "            + ' to learn more about interactive tables.';\n",
              "          element.innerHTML = '';\n",
              "          dataTable['output_type'] = 'display_data';\n",
              "          await google.colab.output.renderOutput(dataTable, element);\n",
              "          const docLink = document.createElement('div');\n",
              "          docLink.innerHTML = docLinkHtml;\n",
              "          element.appendChild(docLink);\n",
              "        }\n",
              "      </script>\n",
              "    </div>\n",
              "  </div>\n",
              "  "
            ]
          },
          "metadata": {},
          "execution_count": 58
        }
      ]
    },
    {
      "cell_type": "code",
      "source": [
        "sns.lineplot(x=combined_df.Date, y=combined_df.Open)\n",
        "# sns.lineplot(x=df_forecast.Date, y=df_forecast.Open)"
      ],
      "metadata": {
        "colab": {
          "base_uri": "https://localhost:8080/",
          "height": 471
        },
        "id": "2QeFFvMf-tCR",
        "outputId": "95e54855-439f-4981-a843-2178d1d66b14"
      },
      "execution_count": 59,
      "outputs": [
        {
          "output_type": "execute_result",
          "data": {
            "text/plain": [
              "<Axes: xlabel='Date', ylabel='Open'>"
            ]
          },
          "metadata": {},
          "execution_count": 59
        },
        {
          "output_type": "display_data",
          "data": {
            "text/plain": [
              "<Figure size 640x480 with 1 Axes>"
            ],
            "image/png": "[encoded data removed]"
          },
          "metadata": {}
        }
      ]
    },
    {
      "cell_type": "code",
      "source": [],
      "metadata": {
        "id": "y7TFU_Ll-v_Q"
      },
      "execution_count": null,
      "outputs": []
    }
  ]
}